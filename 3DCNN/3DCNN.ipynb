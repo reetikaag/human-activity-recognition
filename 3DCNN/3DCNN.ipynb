{
  "nbformat": 4,
  "nbformat_minor": 0,
  "metadata": {
    "colab": {
      "name": "3DCNN.ipynb",
      "provenance": [],
      "collapsed_sections": []
    },
    "kernelspec": {
      "name": "python3",
      "display_name": "Python 3"
    },
    "language_info": {
      "name": "python"
    },
    "accelerator": "GPU"
  },
  "cells": [
    {
      "cell_type": "markdown",
      "metadata": {
        "id": "nSeuK07wJLfv"
      },
      "source": [
        "###This jupyter notebook implements 2 different 3D CNN models and trains UCF-101 dataset"
      ]
    },
    {
      "cell_type": "code",
      "metadata": {
        "id": "8CDOvgzQplbl"
      },
      "source": [
        "import tensorflow as tf\n",
        "import tensorflow_datasets as tfds\n",
        "import math "
      ],
      "execution_count": 2,
      "outputs": []
    },
    {
      "cell_type": "code",
      "metadata": {
        "colab": {
          "base_uri": "https://localhost:8080/"
        },
        "id": "yergUXk_O0Ma",
        "outputId": "5b44f2d2-f7e3-4c7b-ff9f-c8df08dff8e3"
      },
      "source": [
        "!git clone https://github.com/harvitronix/five-video-classification-methods"
      ],
      "execution_count": 3,
      "outputs": [
        {
          "output_type": "stream",
          "name": "stdout",
          "text": [
            "Cloning into 'five-video-classification-methods'...\n",
            "remote: Enumerating objects: 495, done.\u001b[K\n",
            "remote: Total 495 (delta 0), reused 0 (delta 0), pack-reused 495\u001b[K\n",
            "Receiving objects: 100% (495/495), 322.37 KiB | 11.51 MiB/s, done.\n",
            "Resolving deltas: 100% (289/289), done.\n"
          ]
        }
      ]
    },
    {
      "cell_type": "code",
      "metadata": {
        "colab": {
          "base_uri": "https://localhost:8080/"
        },
        "id": "mSjWtnH0PP1d",
        "outputId": "37bf643a-c80b-4777-a3ef-bfd3482ebc37"
      },
      "source": [
        "cd five-video-classification-methods/"
      ],
      "execution_count": 4,
      "outputs": [
        {
          "output_type": "stream",
          "name": "stdout",
          "text": [
            "/content/five-video-classification-methods\n"
          ]
        }
      ]
    },
    {
      "cell_type": "code",
      "metadata": {
        "id": "ixWp_N0gPREN"
      },
      "source": [
        "!pip install -r requirements.txt\n",
        "\n"
      ],
      "execution_count": null,
      "outputs": []
    },
    {
      "cell_type": "code",
      "metadata": {
        "id": "8xHd4ev5Pkzd"
      },
      "source": [
        "!pip install ffmpeg"
      ],
      "execution_count": null,
      "outputs": []
    },
    {
      "cell_type": "code",
      "metadata": {
        "colab": {
          "base_uri": "https://localhost:8080/"
        },
        "id": "VfCoVxU9QBDD",
        "outputId": "843855f1-6d23-4657-f274-3fa543b4fd06"
      },
      "source": [
        "cd data"
      ],
      "execution_count": 7,
      "outputs": [
        {
          "output_type": "stream",
          "name": "stdout",
          "text": [
            "/content/five-video-classification-methods/data\n"
          ]
        }
      ]
    },
    {
      "cell_type": "markdown",
      "metadata": {
        "id": "35NljO48LSbV"
      },
      "source": [
        "###Downloading the full UCF-101 dataset in the data directory. We will be training on this dataset.\n",
        "\n"
      ]
    },
    {
      "cell_type": "code",
      "metadata": {
        "colab": {
          "base_uri": "https://localhost:8080/"
        },
        "id": "VXOsH7NKSqP6",
        "outputId": "cc0fc7bd-f882-405b-9864-a23bf0500ef9"
      },
      "source": [
        "!wget --no-check-certificate https://www.crcv.ucf.edu/data/UCF101/UCF101.rar"
      ],
      "execution_count": 8,
      "outputs": [
        {
          "output_type": "stream",
          "name": "stdout",
          "text": [
            "--2021-11-06 03:35:38--  https://www.crcv.ucf.edu/data/UCF101/UCF101.rar\n",
            "Resolving www.crcv.ucf.edu (www.crcv.ucf.edu)... 132.170.214.127\n",
            "Connecting to www.crcv.ucf.edu (www.crcv.ucf.edu)|132.170.214.127|:443... connected.\n",
            "WARNING: cannot verify www.crcv.ucf.edu's certificate, issued by ‘CN=InCommon RSA Server CA,OU=InCommon,O=Internet2,L=Ann Arbor,ST=MI,C=US’:\n",
            "  Unable to locally verify the issuer's authority.\n",
            "HTTP request sent, awaiting response... 200 OK\n",
            "Length: 6932971618 (6.5G) [application/rar]\n",
            "Saving to: ‘UCF101.rar’\n",
            "\n",
            "UCF101.rar          100%[===================>]   6.46G  41.8MB/s    in 2m 38s  \n",
            "\n",
            "2021-11-06 03:38:16 (41.8 MB/s) - ‘UCF101.rar’ saved [6932971618/6932971618]\n",
            "\n"
          ]
        }
      ]
    },
    {
      "cell_type": "code",
      "metadata": {
        "id": "Dyu040x8TpVJ"
      },
      "source": [
        "!unrar e UCF101.rar"
      ],
      "execution_count": null,
      "outputs": []
    },
    {
      "cell_type": "markdown",
      "metadata": {
        "id": "fsfmRFR-Lj-t"
      },
      "source": [
        "###Creating training and test dataset. Checkpoints directory will store training progress"
      ]
    },
    {
      "cell_type": "code",
      "metadata": {
        "id": "SfvNutk0QDUE"
      },
      "source": [
        "mkdir train && mkdir test && mkdir sequences && mkdir checkpoints"
      ],
      "execution_count": 10,
      "outputs": []
    },
    {
      "cell_type": "markdown",
      "metadata": {
        "id": "-5Npcj9kLs4P"
      },
      "source": [
        "###This code will split the videos to training and testing folder"
      ]
    },
    {
      "cell_type": "code",
      "metadata": {
        "colab": {
          "base_uri": "https://localhost:8080/",
          "height": 35
        },
        "id": "jjwfpU2VWoAT",
        "outputId": "eb856608-e9b6-4c1c-a4b2-c5f71a0a99bc"
      },
      "source": [
        "pwd"
      ],
      "execution_count": 13,
      "outputs": [
        {
          "output_type": "execute_result",
          "data": {
            "application/vnd.google.colaboratory.intrinsic+json": {
              "type": "string"
            },
            "text/plain": [
              "'/content/five-video-classification-methods/data'"
            ]
          },
          "metadata": {},
          "execution_count": 13
        }
      ]
    },
    {
      "cell_type": "code",
      "metadata": {
        "id": "gAOqTQqGQJLM"
      },
      "source": [
        "!python 1_move_files.py"
      ],
      "execution_count": null,
      "outputs": []
    },
    {
      "cell_type": "code",
      "metadata": {
        "id": "k9IQAwWmQPM2"
      },
      "source": [
        "!python 2_extract_files.py\n",
        "\n"
      ],
      "execution_count": null,
      "outputs": []
    },
    {
      "cell_type": "code",
      "metadata": {
        "colab": {
          "base_uri": "https://localhost:8080/"
        },
        "id": "wkmbwDQ0QmI_",
        "outputId": "fc81317f-d675-4b8e-dc6a-ff8ac56d89ee"
      },
      "source": [
        "cd .."
      ],
      "execution_count": 17,
      "outputs": [
        {
          "output_type": "stream",
          "name": "stdout",
          "text": [
            "/content/five-video-classification-methods\n"
          ]
        }
      ]
    },
    {
      "cell_type": "markdown",
      "metadata": {
        "id": "3H4Oa1baI-nd"
      },
      "source": [
        "#3DCNN - Model I"
      ]
    },
    {
      "cell_type": "markdown",
      "metadata": {
        "id": "8T8JJ2rZiYTi"
      },
      "source": [
        "###The model used below is based on 3D Convolutional Network, C3D. This is the structure of the model"
      ]
    },
    {
      "cell_type": "markdown",
      "metadata": {
        "id": "EZdjFZYqiytf"
      },
      "source": [
        "###3D Conv —> Max pooling —> 3D Conv —> Max pooling —> 3D Conv —> 3D Conv —> Max pooling —> 3D Conv —> 3D Conv —> Max pooling —> Flatten —> Dense —> Dropout —> Dense —> Dropout —> Dense "
      ]
    },
    {
      "cell_type": "markdown",
      "metadata": {
        "id": "NG9KPYGbkUV4"
      },
      "source": [
        "###It consists of six 3D Conv layers with ReLU Activation, last 3 layers are fully connected layers. Dropout is used to prevent overfitting. The output layer is softmax with 101 outputs."
      ]
    },
    {
      "cell_type": "markdown",
      "metadata": {
        "id": "lFxxzd5MjwUf"
      },
      "source": [
        "###It is trained for 100 epochs with batch size 32"
      ]
    },
    {
      "cell_type": "markdown",
      "metadata": {
        "id": "hLVJVZi70o7A"
      },
      "source": [
        "###Since the dataset it takes a long time to train and the accuracy achieved after x iterations is 10%. We believe that the accuracy will improve if trained for longer time."
      ]
    },
    {
      "cell_type": "markdown",
      "metadata": {
        "id": "9iI-uCXFjRx5"
      },
      "source": [
        "###The paper reference is here : https://arxiv.org/pdf/1412.0767.pdf\n"
      ]
    },
    {
      "cell_type": "markdown",
      "metadata": {
        "id": "FfYjdB7bjZcD"
      },
      "source": [
        "###With thanks : https://github.com/harvitronix/five-video-classification-methods"
      ]
    },
    {
      "cell_type": "code",
      "metadata": {
        "id": "uad3RxjUSWd0",
        "colab": {
          "base_uri": "https://localhost:8080/"
        },
        "outputId": "9233b618-d731-4db5-bd5c-17c8782151f8"
      },
      "source": [
        "!python train.py"
      ],
      "execution_count": null,
      "outputs": [
        {
          "output_type": "stream",
          "name": "stdout",
          "text": [
            "2021-11-06 05:23:10.480600: I tensorflow/core/profiler/lib/profiler_session.cc:131] Profiler session initializing.\n",
            "2021-11-06 05:23:10.480663: I tensorflow/core/profiler/lib/profiler_session.cc:146] Profiler session started.\n",
            "2021-11-06 05:23:10.495338: I tensorflow/core/profiler/internal/gpu/cupti_tracer.cc:1614] Profiler found 1 GPUs\n",
            "2021-11-06 05:23:10.500171: I tensorflow/core/profiler/lib/profiler_session.cc:164] Profiler session tear down.\n",
            "2021-11-06 05:23:10.500318: I tensorflow/core/profiler/internal/gpu/cupti_tracer.cc:1748] CUPTI activity buffer flushed\n",
            "Loading Conv3D\n",
            "2021-11-06 05:23:10.540566: I tensorflow/stream_executor/cuda/cuda_gpu_executor.cc:937] successful NUMA node read from SysFS had negative value (-1), but there must be at least one NUMA node, so returning NUMA node zero\n",
            "2021-11-06 05:23:10.552306: I tensorflow/stream_executor/cuda/cuda_gpu_executor.cc:937] successful NUMA node read from SysFS had negative value (-1), but there must be at least one NUMA node, so returning NUMA node zero\n",
            "2021-11-06 05:23:10.553143: I tensorflow/stream_executor/cuda/cuda_gpu_executor.cc:937] successful NUMA node read from SysFS had negative value (-1), but there must be at least one NUMA node, so returning NUMA node zero\n",
            "2021-11-06 05:23:10.554196: I tensorflow/stream_executor/cuda/cuda_gpu_executor.cc:937] successful NUMA node read from SysFS had negative value (-1), but there must be at least one NUMA node, so returning NUMA node zero\n",
            "2021-11-06 05:23:10.554838: I tensorflow/stream_executor/cuda/cuda_gpu_executor.cc:937] successful NUMA node read from SysFS had negative value (-1), but there must be at least one NUMA node, so returning NUMA node zero\n",
            "2021-11-06 05:23:10.555461: I tensorflow/stream_executor/cuda/cuda_gpu_executor.cc:937] successful NUMA node read from SysFS had negative value (-1), but there must be at least one NUMA node, so returning NUMA node zero\n",
            "2021-11-06 05:23:11.201232: I tensorflow/stream_executor/cuda/cuda_gpu_executor.cc:937] successful NUMA node read from SysFS had negative value (-1), but there must be at least one NUMA node, so returning NUMA node zero\n",
            "2021-11-06 05:23:11.202090: I tensorflow/stream_executor/cuda/cuda_gpu_executor.cc:937] successful NUMA node read from SysFS had negative value (-1), but there must be at least one NUMA node, so returning NUMA node zero\n",
            "2021-11-06 05:23:11.202956: I tensorflow/stream_executor/cuda/cuda_gpu_executor.cc:937] successful NUMA node read from SysFS had negative value (-1), but there must be at least one NUMA node, so returning NUMA node zero\n",
            "2021-11-06 05:23:11.203525: W tensorflow/core/common_runtime/gpu/gpu_bfc_allocator.cc:39] Overriding allow_growth setting because the TF_FORCE_GPU_ALLOW_GROWTH environment variable is set. Original config value was 0.\n",
            "2021-11-06 05:23:11.203578: I tensorflow/core/common_runtime/gpu/gpu_device.cc:1510] Created device /job:localhost/replica:0/task:0/device:GPU:0 with 15435 MB memory:  -> device: 0, name: Tesla P100-PCIE-16GB, pci bus id: 0000:00:04.0, compute capability: 6.0\n",
            "/usr/local/lib/python3.7/dist-packages/keras/optimizer_v2/optimizer_v2.py:356: UserWarning: The `lr` argument is deprecated, use `learning_rate` instead.\n",
            "  \"The `lr` argument is deprecated, use `learning_rate` instead.\")\n",
            "Model: \"sequential\"\n",
            "_________________________________________________________________\n",
            "Layer (type)                 Output Shape              Param #   \n",
            "=================================================================\n",
            "conv3d (Conv3D)              (None, 38, 78, 78, 32)    2624      \n",
            "_________________________________________________________________\n",
            "max_pooling3d (MaxPooling3D) (None, 38, 39, 39, 32)    0         \n",
            "_________________________________________________________________\n",
            "conv3d_1 (Conv3D)            (None, 36, 37, 37, 64)    55360     \n",
            "_________________________________________________________________\n",
            "max_pooling3d_1 (MaxPooling3 (None, 36, 18, 18, 64)    0         \n",
            "_________________________________________________________________\n",
            "conv3d_2 (Conv3D)            (None, 34, 16, 16, 128)   221312    \n",
            "_________________________________________________________________\n",
            "conv3d_3 (Conv3D)            (None, 32, 14, 14, 128)   442496    \n",
            "_________________________________________________________________\n",
            "max_pooling3d_2 (MaxPooling3 (None, 32, 7, 7, 128)     0         \n",
            "_________________________________________________________________\n",
            "conv3d_4 (Conv3D)            (None, 31, 6, 6, 256)     262400    \n",
            "_________________________________________________________________\n",
            "conv3d_5 (Conv3D)            (None, 30, 5, 5, 256)     524544    \n",
            "_________________________________________________________________\n",
            "max_pooling3d_3 (MaxPooling3 (None, 30, 2, 2, 256)     0         \n",
            "_________________________________________________________________\n",
            "flatten (Flatten)            (None, 30720)             0         \n",
            "_________________________________________________________________\n",
            "dense (Dense)                (None, 1024)              31458304  \n",
            "_________________________________________________________________\n",
            "dropout (Dropout)            (None, 1024)              0         \n",
            "_________________________________________________________________\n",
            "dense_1 (Dense)              (None, 1024)              1049600   \n",
            "_________________________________________________________________\n",
            "dropout_1 (Dropout)          (None, 1024)              0         \n",
            "_________________________________________________________________\n",
            "dense_2 (Dense)              (None, 101)               103525    \n",
            "=================================================================\n",
            "Total params: 34,120,165\n",
            "Trainable params: 34,120,165\n",
            "Non-trainable params: 0\n",
            "_________________________________________________________________\n",
            "None\n",
            "/usr/local/lib/python3.7/dist-packages/keras/engine/training.py:1972: UserWarning: `Model.fit_generator` is deprecated and will be removed in a future version. Please use `Model.fit`, which supports generators.\n",
            "  warnings.warn('`Model.fit_generator` is deprecated and '\n",
            "Creating train generator with 8596 samples.\n",
            "2021-11-06 05:23:14.967846: I tensorflow/compiler/mlir/mlir_graph_optimization_pass.cc:185] None of the MLIR Optimization Passes are enabled (registered 2)\n",
            "Epoch 1/100\n",
            "2021-11-06 05:23:17.173424: I tensorflow/stream_executor/cuda/cuda_dnn.cc:369] Loaded cuDNN version 8005\n",
            "  1/262 [..............................] - ETA: 1:22:22 - loss: 4.6104 - accuracy: 0.0000e+00 - top_k_categorical_accuracy: 0.03122021-11-06 05:23:33.956724: I tensorflow/core/profiler/lib/profiler_session.cc:131] Profiler session initializing.\n",
            "2021-11-06 05:23:33.956764: I tensorflow/core/profiler/lib/profiler_session.cc:146] Profiler session started.\n",
            "  2/262 [..............................] - ETA: 4:54 - loss: 4.6150 - accuracy: 0.0156 - top_k_categorical_accuracy: 0.0469       2021-11-06 05:23:35.066701: I tensorflow/core/profiler/lib/profiler_session.cc:66] Profiler session collecting data.\n",
            "2021-11-06 05:23:35.067363: I tensorflow/core/profiler/internal/gpu/cupti_tracer.cc:1748] CUPTI activity buffer flushed\n",
            "2021-11-06 05:23:35.145532: I tensorflow/core/profiler/internal/gpu/cupti_collector.cc:673]  GpuTracer has collected 664 callback api events and 660 activity events. \n",
            "2021-11-06 05:23:35.160004: I tensorflow/core/profiler/lib/profiler_session.cc:164] Profiler session tear down.\n",
            "2021-11-06 05:23:35.187078: I tensorflow/core/profiler/rpc/client/save_profile.cc:136] Creating directory: data/logs/conv_3d/train/plugins/profile/2021_11_06_05_23_35\n",
            "\n",
            "2021-11-06 05:23:35.202698: I tensorflow/core/profiler/rpc/client/save_profile.cc:142] Dumped gzipped tool data for trace.json.gz to data/logs/conv_3d/train/plugins/profile/2021_11_06_05_23_35/27ff66b77eb6.trace.json.gz\n",
            "2021-11-06 05:23:35.233863: I tensorflow/core/profiler/rpc/client/save_profile.cc:136] Creating directory: data/logs/conv_3d/train/plugins/profile/2021_11_06_05_23_35\n",
            "\n",
            "2021-11-06 05:23:35.236460: I tensorflow/core/profiler/rpc/client/save_profile.cc:142] Dumped gzipped tool data for memory_profile.json.gz to data/logs/conv_3d/train/plugins/profile/2021_11_06_05_23_35/27ff66b77eb6.memory_profile.json.gz\n",
            "2021-11-06 05:23:35.237399: I tensorflow/core/profiler/rpc/client/capture_profile.cc:251] Creating directory: data/logs/conv_3d/train/plugins/profile/2021_11_06_05_23_35\n",
            "Dumped tool data for xplane.pb to data/logs/conv_3d/train/plugins/profile/2021_11_06_05_23_35/27ff66b77eb6.xplane.pb\n",
            "Dumped tool data for overview_page.pb to data/logs/conv_3d/train/plugins/profile/2021_11_06_05_23_35/27ff66b77eb6.overview_page.pb\n",
            "Dumped tool data for input_pipeline.pb to data/logs/conv_3d/train/plugins/profile/2021_11_06_05_23_35/27ff66b77eb6.input_pipeline.pb\n",
            "Dumped tool data for tensorflow_stats.pb to data/logs/conv_3d/train/plugins/profile/2021_11_06_05_23_35/27ff66b77eb6.tensorflow_stats.pb\n",
            "Dumped tool data for kernel_stats.pb to data/logs/conv_3d/train/plugins/profile/2021_11_06_05_23_35/27ff66b77eb6.kernel_stats.pb\n",
            "\n",
            "262/262 [==============================] - ETA: 0s - loss: 4.5911 - accuracy: 0.0160 - top_k_categorical_accuracy: 0.0716Creating test generator with 3418 samples.\n",
            "262/262 [==============================] - 788s 3s/step - loss: 4.5911 - accuracy: 0.0160 - top_k_categorical_accuracy: 0.0716 - val_loss: 4.5626 - val_accuracy: 0.0164 - val_top_k_categorical_accuracy: 0.0711\n",
            "\n",
            "Epoch 00001: val_loss improved from inf to 4.56256, saving model to data/checkpoints/conv_3d-images.001-4.563.hdf5\n",
            "Epoch 2/100\n",
            "262/262 [==============================] - 755s 3s/step - loss: 4.4050 - accuracy: 0.0401 - top_k_categorical_accuracy: 0.1505 - val_loss: 4.1607 - val_accuracy: 0.0781 - val_top_k_categorical_accuracy: 0.2492\n",
            "\n",
            "Epoch 00002: val_loss improved from 4.56256 to 4.16074, saving model to data/checkpoints/conv_3d-images.002-4.161.hdf5\n",
            "Epoch 3/100\n",
            "262/262 [==============================] - 699s 3s/step - loss: 4.0194 - accuracy: 0.1001 - top_k_categorical_accuracy: 0.2814 - val_loss: 3.8721 - val_accuracy: 0.1383 - val_top_k_categorical_accuracy: 0.3367\n",
            "\n",
            "Epoch 00003: val_loss improved from 4.16074 to 3.87212, saving model to data/checkpoints/conv_3d-images.003-3.872.hdf5\n",
            "Epoch 4/100\n",
            "262/262 [==============================] - 707s 3s/step - loss: 3.6775 - accuracy: 0.1528 - top_k_categorical_accuracy: 0.3836 - val_loss: 3.7375 - val_accuracy: 0.1242 - val_top_k_categorical_accuracy: 0.3812\n",
            "\n",
            "Epoch 00004: val_loss improved from 3.87212 to 3.73753, saving model to data/checkpoints/conv_3d-images.004-3.738.hdf5\n",
            "Epoch 5/100\n",
            "262/262 [==============================] - 717s 3s/step - loss: 3.4190 - accuracy: 0.1979 - top_k_categorical_accuracy: 0.4609 - val_loss: 3.5779 - val_accuracy: 0.1711 - val_top_k_categorical_accuracy: 0.4047\n",
            "\n",
            "Epoch 00005: val_loss improved from 3.73753 to 3.57791, saving model to data/checkpoints/conv_3d-images.005-3.578.hdf5\n",
            "Epoch 6/100\n",
            "262/262 [==============================] - 784s 3s/step - loss: 3.1696 - accuracy: 0.2426 - top_k_categorical_accuracy: 0.5250 - val_loss: 3.3707 - val_accuracy: 0.2031 - val_top_k_categorical_accuracy: 0.4508\n",
            "\n",
            "Epoch 00006: val_loss improved from 3.57791 to 3.37072, saving model to data/checkpoints/conv_3d-images.006-3.371.hdf5\n",
            "Epoch 7/100\n",
            "262/262 [==============================] - 760s 3s/step - loss: 2.8865 - accuracy: 0.2977 - top_k_categorical_accuracy: 0.5965 - val_loss: 3.3355 - val_accuracy: 0.2055 - val_top_k_categorical_accuracy: 0.4688\n",
            "\n",
            "Epoch 00007: val_loss improved from 3.37072 to 3.33549, saving model to data/checkpoints/conv_3d-images.007-3.335.hdf5\n",
            "Epoch 8/100\n",
            "262/262 [==============================] - 837s 3s/step - loss: 2.7023 - accuracy: 0.3371 - top_k_categorical_accuracy: 0.6390 - val_loss: 3.2098 - val_accuracy: 0.2359 - val_top_k_categorical_accuracy: 0.5016\n",
            "\n",
            "Epoch 00008: val_loss improved from 3.33549 to 3.20980, saving model to data/checkpoints/conv_3d-images.008-3.210.hdf5\n"
          ]
        }
      ]
    },
    {
      "cell_type": "markdown",
      "metadata": {
        "id": "uFeuAX_hIs4f"
      },
      "source": [
        "#3DCNN Model-II"
      ]
    },
    {
      "cell_type": "markdown",
      "metadata": {
        "id": "Gf9qNiiYNnz8"
      },
      "source": [
        "###This code uses 3D CNN model for action recognition on UCF-101 dataset.\n",
        "\n",
        "---\n",
        "\n"
      ]
    },
    {
      "cell_type": "markdown",
      "metadata": {
        "id": "4tWS2x8XNxYM"
      },
      "source": [
        "###3D Conv —> 3D Conv —> Max pool —> Dropout —> 3D Conv —> 3D Conv —> Max pooling —> Dropout —> Flatten —> Dense —> Dropout —> Dense"
      ]
    },
    {
      "cell_type": "markdown",
      "metadata": {
        "id": "mUmcXCBDRb4R"
      },
      "source": [
        "###It consists of four 3D Conv layers with ReLU Activation, last 2 layers are fully connected layers. Dropout is used to prevent overfitting. The last layer has softmax activation with 10 outputs corresponding to the 10 action classes."
      ]
    },
    {
      "cell_type": "markdown",
      "metadata": {
        "id": "BVXSNb8-j_ai"
      },
      "source": [
        "###It is trained for 50 epochs with mini-batch size of 32 for 10 action classes"
      ]
    },
    {
      "cell_type": "markdown",
      "metadata": {
        "id": "BapKYkE4RgTB"
      },
      "source": [
        "###This can achieve 96.9% accuracy on the training set and 92% accuracy on the test set. \n",
        "\n",
        "###Since the no of action classes is small, good accuracy can be achieved even though the model is simpler and trained for lower epochs."
      ]
    },
    {
      "cell_type": "markdown",
      "metadata": {
        "id": "GC3dwhpEkLND"
      },
      "source": [
        "####With thanks : https://github.com/kcct-fujimotolab/3DCNN"
      ]
    },
    {
      "cell_type": "code",
      "metadata": {
        "id": "fNvrpmDcLSId"
      },
      "source": [
        "!git clone https://github.com/kcct-fujimotolab/3DCNN"
      ],
      "execution_count": null,
      "outputs": []
    },
    {
      "cell_type": "code",
      "metadata": {
        "id": "a9o2FPgPL9do"
      },
      "source": [
        "mkdir UCF101"
      ],
      "execution_count": null,
      "outputs": []
    },
    {
      "cell_type": "code",
      "metadata": {
        "colab": {
          "base_uri": "https://localhost:8080/"
        },
        "id": "OcF2-Vv0MFMt",
        "outputId": "da48f020-2051-43dd-89b4-d37aee08eb55"
      },
      "source": [
        "cd UCF101/"
      ],
      "execution_count": null,
      "outputs": [
        {
          "output_type": "stream",
          "name": "stdout",
          "text": [
            "/content/five-video-classification-methods/UCF101\n"
          ]
        }
      ]
    },
    {
      "cell_type": "code",
      "metadata": {
        "id": "JvtFq4nXMGg2"
      },
      "source": [
        "!unrar e ../data/UCF101.rar"
      ],
      "execution_count": null,
      "outputs": []
    },
    {
      "cell_type": "code",
      "metadata": {
        "colab": {
          "base_uri": "https://localhost:8080/",
          "height": 35
        },
        "id": "KSk9wfK4MNFX",
        "outputId": "116384c8-fb3b-43b6-8eda-39414d2055e4"
      },
      "source": [
        "pwd"
      ],
      "execution_count": null,
      "outputs": [
        {
          "output_type": "execute_result",
          "data": {
            "application/vnd.google.colaboratory.intrinsic+json": {
              "type": "string"
            },
            "text/plain": [
              "'/content/five-video-classification-methods/UCF101'"
            ]
          },
          "metadata": {},
          "execution_count": 50
        }
      ]
    },
    {
      "cell_type": "code",
      "metadata": {
        "colab": {
          "base_uri": "https://localhost:8080/"
        },
        "id": "71dtmioKNBu0",
        "outputId": "685f9557-9ff4-4af3-8338-461b2416c1b2"
      },
      "source": [
        "cd .."
      ],
      "execution_count": null,
      "outputs": [
        {
          "output_type": "stream",
          "name": "stdout",
          "text": [
            "/content/five-video-classification-methods/3DCNN\n"
          ]
        }
      ]
    },
    {
      "cell_type": "code",
      "metadata": {
        "id": "d96bzjLlNKY9"
      },
      "source": [
        "!python videoto3d.py --batch 32 --epoch 50 --videos UCF101/ --nclass 10 --output 3dcnnresult/ --color True --skip False --depth 15"
      ],
      "execution_count": null,
      "outputs": []
    },
    {
      "cell_type": "code",
      "metadata": {
        "colab": {
          "base_uri": "https://localhost:8080/"
        },
        "id": "DpjvTGmwNbSb",
        "outputId": "7e019204-4917-4f50-eda4-a98b9ffbf8a7"
      },
      "source": [
        "!python 3dcnn.py --batch 32 --epoch 50 --videos dataset/ --nclass 10 --output 3dcnnresult/ --color True --skip False --depth 15\n"
      ],
      "execution_count": null,
      "outputs": [
        {
          "output_type": "stream",
          "name": "stdout",
          "text": [
            "X_shape:(1280, 32, 32, 15, 3)\n",
            "Y_shape:(1280, 10)\n",
            "2021-11-04 05:14:01.145030: I tensorflow/stream_executor/cuda/cuda_gpu_executor.cc:937] successful NUMA node read from SysFS had negative value (-1), but there must be at least one NUMA node, so returning NUMA node zero\n",
            "2021-11-04 05:14:01.155421: I tensorflow/stream_executor/cuda/cuda_gpu_executor.cc:937] successful NUMA node read from SysFS had negative value (-1), but there must be at least one NUMA node, so returning NUMA node zero\n",
            "2021-11-04 05:14:01.156072: I tensorflow/stream_executor/cuda/cuda_gpu_executor.cc:937] successful NUMA node read from SysFS had negative value (-1), but there must be at least one NUMA node, so returning NUMA node zero\n",
            "2021-11-04 05:14:01.157111: I tensorflow/stream_executor/cuda/cuda_gpu_executor.cc:937] successful NUMA node read from SysFS had negative value (-1), but there must be at least one NUMA node, so returning NUMA node zero\n",
            "2021-11-04 05:14:01.157736: I tensorflow/stream_executor/cuda/cuda_gpu_executor.cc:937] successful NUMA node read from SysFS had negative value (-1), but there must be at least one NUMA node, so returning NUMA node zero\n",
            "2021-11-04 05:14:01.158282: I tensorflow/stream_executor/cuda/cuda_gpu_executor.cc:937] successful NUMA node read from SysFS had negative value (-1), but there must be at least one NUMA node, so returning NUMA node zero\n",
            "2021-11-04 05:14:01.776580: I tensorflow/stream_executor/cuda/cuda_gpu_executor.cc:937] successful NUMA node read from SysFS had negative value (-1), but there must be at least one NUMA node, so returning NUMA node zero\n",
            "2021-11-04 05:14:01.777249: I tensorflow/stream_executor/cuda/cuda_gpu_executor.cc:937] successful NUMA node read from SysFS had negative value (-1), but there must be at least one NUMA node, so returning NUMA node zero\n",
            "2021-11-04 05:14:01.777849: I tensorflow/stream_executor/cuda/cuda_gpu_executor.cc:937] successful NUMA node read from SysFS had negative value (-1), but there must be at least one NUMA node, so returning NUMA node zero\n",
            "2021-11-04 05:14:01.778365: W tensorflow/core/common_runtime/gpu/gpu_bfc_allocator.cc:39] Overriding allow_growth setting because the TF_FORCE_GPU_ALLOW_GROWTH environment variable is set. Original config value was 0.\n",
            "2021-11-04 05:14:01.778422: I tensorflow/core/common_runtime/gpu/gpu_device.cc:1510] Created device /job:localhost/replica:0/task:0/device:GPU:0 with 15435 MB memory:  -> device: 0, name: Tesla P100-PCIE-16GB, pci bus id: 0000:00:04.0, compute capability: 6.0\n",
            "Model: \"sequential\"\n",
            "_________________________________________________________________\n",
            "Layer (type)                 Output Shape              Param #   \n",
            "=================================================================\n",
            "conv3d (Conv3D)              (None, 32, 32, 15, 32)    2624      \n",
            "_________________________________________________________________\n",
            "activation (Activation)      (None, 32, 32, 15, 32)    0         \n",
            "_________________________________________________________________\n",
            "conv3d_1 (Conv3D)            (None, 32, 32, 15, 32)    27680     \n",
            "_________________________________________________________________\n",
            "activation_1 (Activation)    (None, 32, 32, 15, 32)    0         \n",
            "_________________________________________________________________\n",
            "max_pooling3d (MaxPooling3D) (None, 11, 11, 5, 32)     0         \n",
            "_________________________________________________________________\n",
            "dropout (Dropout)            (None, 11, 11, 5, 32)     0         \n",
            "_________________________________________________________________\n",
            "conv3d_2 (Conv3D)            (None, 11, 11, 5, 64)     55360     \n",
            "_________________________________________________________________\n",
            "activation_2 (Activation)    (None, 11, 11, 5, 64)     0         \n",
            "_________________________________________________________________\n",
            "conv3d_3 (Conv3D)            (None, 11, 11, 5, 64)     110656    \n",
            "_________________________________________________________________\n",
            "activation_3 (Activation)    (None, 11, 11, 5, 64)     0         \n",
            "_________________________________________________________________\n",
            "max_pooling3d_1 (MaxPooling3 (None, 4, 4, 2, 64)       0         \n",
            "_________________________________________________________________\n",
            "dropout_1 (Dropout)          (None, 4, 4, 2, 64)       0         \n",
            "_________________________________________________________________\n",
            "flatten (Flatten)            (None, 2048)              0         \n",
            "_________________________________________________________________\n",
            "dense (Dense)                (None, 512)               1049088   \n",
            "_________________________________________________________________\n",
            "dropout_2 (Dropout)          (None, 512)               0         \n",
            "_________________________________________________________________\n",
            "dense_1 (Dense)              (None, 10)                5130      \n",
            "=================================================================\n",
            "Total params: 1,250,538\n",
            "Trainable params: 1,250,538\n",
            "Non-trainable params: 0\n",
            "_________________________________________________________________\n",
            "2021-11-04 05:14:02.528629: W tensorflow/core/framework/cpu_allocator_impl.cc:80] Allocation of 188743680 exceeds 10% of free system memory.\n",
            "2021-11-04 05:14:02.672609: I tensorflow/compiler/mlir/mlir_graph_optimization_pass.cc:185] None of the MLIR Optimization Passes are enabled (registered 2)\n",
            "Epoch 1/50\n",
            "2021-11-04 05:14:03.452675: I tensorflow/stream_executor/cuda/cuda_dnn.cc:369] Loaded cuDNN version 8005\n",
            "32/32 [==============================] - 3s 47ms/step - loss: 2.5462 - accuracy: 0.1035 - val_loss: 2.2372 - val_accuracy: 0.1445\n",
            "Epoch 2/50\n",
            "32/32 [==============================] - 1s 39ms/step - loss: 2.2782 - accuracy: 0.1836 - val_loss: 1.8297 - val_accuracy: 0.3789\n",
            "Epoch 3/50\n",
            "32/32 [==============================] - 1s 41ms/step - loss: 1.7831 - accuracy: 0.3457 - val_loss: 1.4501 - val_accuracy: 0.4375\n",
            "Epoch 4/50\n",
            "32/32 [==============================] - 1s 39ms/step - loss: 1.4728 - accuracy: 0.4854 - val_loss: 1.4597 - val_accuracy: 0.4648\n",
            "Epoch 5/50\n",
            "32/32 [==============================] - 1s 40ms/step - loss: 1.2678 - accuracy: 0.5420 - val_loss: 1.0928 - val_accuracy: 0.6250\n",
            "Epoch 6/50\n",
            "32/32 [==============================] - 1s 39ms/step - loss: 1.1284 - accuracy: 0.5947 - val_loss: 0.9801 - val_accuracy: 0.6328\n",
            "Epoch 7/50\n",
            "32/32 [==============================] - 1s 39ms/step - loss: 1.0206 - accuracy: 0.6328 - val_loss: 0.8436 - val_accuracy: 0.7070\n",
            "Epoch 8/50\n",
            "32/32 [==============================] - 1s 39ms/step - loss: 0.8942 - accuracy: 0.6924 - val_loss: 0.8086 - val_accuracy: 0.7344\n",
            "Epoch 9/50\n",
            "32/32 [==============================] - 1s 40ms/step - loss: 0.7976 - accuracy: 0.7266 - val_loss: 0.6299 - val_accuracy: 0.7969\n",
            "Epoch 10/50\n",
            "32/32 [==============================] - 1s 41ms/step - loss: 0.7026 - accuracy: 0.7500 - val_loss: 0.5950 - val_accuracy: 0.8086\n",
            "Epoch 11/50\n",
            "32/32 [==============================] - 1s 39ms/step - loss: 0.6538 - accuracy: 0.7773 - val_loss: 0.5595 - val_accuracy: 0.8086\n",
            "Epoch 12/50\n",
            "32/32 [==============================] - 1s 39ms/step - loss: 0.5877 - accuracy: 0.8076 - val_loss: 0.5695 - val_accuracy: 0.8086\n",
            "Epoch 13/50\n",
            "32/32 [==============================] - 1s 39ms/step - loss: 0.5418 - accuracy: 0.8184 - val_loss: 0.5093 - val_accuracy: 0.8438\n",
            "Epoch 14/50\n",
            "32/32 [==============================] - 1s 41ms/step - loss: 0.5274 - accuracy: 0.8213 - val_loss: 0.4530 - val_accuracy: 0.8594\n",
            "Epoch 15/50\n",
            "32/32 [==============================] - 1s 39ms/step - loss: 0.4694 - accuracy: 0.8447 - val_loss: 0.5311 - val_accuracy: 0.8047\n",
            "Epoch 16/50\n",
            "32/32 [==============================] - 1s 39ms/step - loss: 0.4271 - accuracy: 0.8652 - val_loss: 0.4659 - val_accuracy: 0.8438\n",
            "Epoch 17/50\n",
            "32/32 [==============================] - 1s 39ms/step - loss: 0.3978 - accuracy: 0.8691 - val_loss: 0.3489 - val_accuracy: 0.8867\n",
            "Epoch 18/50\n",
            "32/32 [==============================] - 1s 41ms/step - loss: 0.3479 - accuracy: 0.8789 - val_loss: 0.3860 - val_accuracy: 0.8789\n",
            "Epoch 19/50\n",
            "32/32 [==============================] - 1s 39ms/step - loss: 0.3124 - accuracy: 0.8994 - val_loss: 0.3716 - val_accuracy: 0.8750\n",
            "Epoch 20/50\n",
            "32/32 [==============================] - 1s 41ms/step - loss: 0.3547 - accuracy: 0.8838 - val_loss: 0.4461 - val_accuracy: 0.8594\n",
            "Epoch 21/50\n",
            "32/32 [==============================] - 1s 41ms/step - loss: 0.3741 - accuracy: 0.8740 - val_loss: 0.3831 - val_accuracy: 0.8828\n",
            "Epoch 22/50\n",
            "32/32 [==============================] - 1s 39ms/step - loss: 0.3276 - accuracy: 0.8916 - val_loss: 0.3554 - val_accuracy: 0.8789\n",
            "Epoch 23/50\n",
            "32/32 [==============================] - 1s 41ms/step - loss: 0.2957 - accuracy: 0.9082 - val_loss: 0.3225 - val_accuracy: 0.9062\n",
            "Epoch 24/50\n",
            "32/32 [==============================] - 1s 41ms/step - loss: 0.2369 - accuracy: 0.9248 - val_loss: 0.3014 - val_accuracy: 0.8945\n",
            "Epoch 25/50\n",
            "32/32 [==============================] - 1s 39ms/step - loss: 0.2686 - accuracy: 0.9180 - val_loss: 0.3247 - val_accuracy: 0.8945\n",
            "Epoch 26/50\n",
            "32/32 [==============================] - 1s 39ms/step - loss: 0.2262 - accuracy: 0.9248 - val_loss: 0.3523 - val_accuracy: 0.8711\n",
            "Epoch 27/50\n",
            "32/32 [==============================] - 1s 39ms/step - loss: 0.2216 - accuracy: 0.9316 - val_loss: 0.3109 - val_accuracy: 0.9023\n",
            "Epoch 28/50\n",
            "32/32 [==============================] - 1s 39ms/step - loss: 0.1503 - accuracy: 0.9512 - val_loss: 0.2705 - val_accuracy: 0.9062\n",
            "Epoch 29/50\n",
            "32/32 [==============================] - 1s 39ms/step - loss: 0.1665 - accuracy: 0.9512 - val_loss: 0.2736 - val_accuracy: 0.9062\n",
            "Epoch 30/50\n",
            "32/32 [==============================] - 1s 41ms/step - loss: 0.2059 - accuracy: 0.9443 - val_loss: 0.2833 - val_accuracy: 0.9219\n",
            "Epoch 31/50\n",
            "32/32 [==============================] - 1s 41ms/step - loss: 0.1566 - accuracy: 0.9482 - val_loss: 0.3067 - val_accuracy: 0.8867\n",
            "Epoch 32/50\n",
            "32/32 [==============================] - 1s 41ms/step - loss: 0.1508 - accuracy: 0.9541 - val_loss: 0.3011 - val_accuracy: 0.9023\n",
            "Epoch 33/50\n",
            "32/32 [==============================] - 1s 41ms/step - loss: 0.1621 - accuracy: 0.9473 - val_loss: 0.3398 - val_accuracy: 0.8906\n",
            "Epoch 34/50\n",
            "32/32 [==============================] - 1s 41ms/step - loss: 0.1407 - accuracy: 0.9512 - val_loss: 0.2528 - val_accuracy: 0.9102\n",
            "Epoch 35/50\n",
            "32/32 [==============================] - 1s 39ms/step - loss: 0.1343 - accuracy: 0.9580 - val_loss: 0.3030 - val_accuracy: 0.9141\n",
            "Epoch 36/50\n",
            "32/32 [==============================] - 1s 41ms/step - loss: 0.1613 - accuracy: 0.9541 - val_loss: 0.3214 - val_accuracy: 0.8984\n",
            "Epoch 37/50\n",
            "32/32 [==============================] - 1s 41ms/step - loss: 0.2214 - accuracy: 0.9199 - val_loss: 0.3090 - val_accuracy: 0.9062\n",
            "Epoch 38/50\n",
            "32/32 [==============================] - 1s 39ms/step - loss: 0.1337 - accuracy: 0.9639 - val_loss: 0.2980 - val_accuracy: 0.9141\n",
            "Epoch 39/50\n",
            "32/32 [==============================] - 1s 39ms/step - loss: 0.0981 - accuracy: 0.9707 - val_loss: 0.2816 - val_accuracy: 0.9062\n",
            "Epoch 40/50\n",
            "32/32 [==============================] - 1s 39ms/step - loss: 0.0953 - accuracy: 0.9697 - val_loss: 0.2681 - val_accuracy: 0.9375\n",
            "Epoch 41/50\n",
            "32/32 [==============================] - 1s 39ms/step - loss: 0.0771 - accuracy: 0.9814 - val_loss: 0.3090 - val_accuracy: 0.9023\n",
            "Epoch 42/50\n",
            "32/32 [==============================] - 1s 39ms/step - loss: 0.0768 - accuracy: 0.9834 - val_loss: 0.2446 - val_accuracy: 0.9258\n",
            "Epoch 43/50\n",
            "32/32 [==============================] - 1s 40ms/step - loss: 0.0913 - accuracy: 0.9756 - val_loss: 0.3122 - val_accuracy: 0.9102\n",
            "Epoch 44/50\n",
            "32/32 [==============================] - 1s 41ms/step - loss: 0.0778 - accuracy: 0.9775 - val_loss: 0.2569 - val_accuracy: 0.9219\n",
            "Epoch 45/50\n",
            "32/32 [==============================] - 1s 41ms/step - loss: 0.0665 - accuracy: 0.9824 - val_loss: 0.2669 - val_accuracy: 0.9297\n",
            "Epoch 46/50\n",
            "32/32 [==============================] - 1s 40ms/step - loss: 0.0888 - accuracy: 0.9727 - val_loss: 0.2701 - val_accuracy: 0.9219\n",
            "Epoch 47/50\n",
            "32/32 [==============================] - 1s 41ms/step - loss: 0.0883 - accuracy: 0.9717 - val_loss: 0.2953 - val_accuracy: 0.9023\n",
            "Epoch 48/50\n",
            "32/32 [==============================] - 1s 40ms/step - loss: 0.0837 - accuracy: 0.9746 - val_loss: 0.2899 - val_accuracy: 0.9062\n",
            "Epoch 49/50\n",
            "32/32 [==============================] - 1s 41ms/step - loss: 0.0732 - accuracy: 0.9795 - val_loss: 0.2266 - val_accuracy: 0.9219\n",
            "Epoch 50/50\n",
            "32/32 [==============================] - 1s 41ms/step - loss: 0.1021 - accuracy: 0.9697 - val_loss: 0.2979 - val_accuracy: 0.9219\n",
            "Test loss: 0.29790177941322327\n",
            "Test accuracy: 0.921875\n"
          ]
        }
      ]
    },
    {
      "cell_type": "code",
      "metadata": {
        "id": "89RBW8WWSYVg"
      },
      "source": [
        ""
      ],
      "execution_count": null,
      "outputs": []
    }
  ]
}