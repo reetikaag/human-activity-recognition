{
 "cells": [
  {
   "cell_type": "code",
   "execution_count": 29,
   "id": "4b612d4e",
   "metadata": {},
   "outputs": [],
   "source": [
    "import argparse\n",
    "import os\n",
    "from subprocess import check_call\n",
    "import sys\n",
    "import json\n",
    "import logging"
   ]
  },
  {
   "cell_type": "code",
   "execution_count": 3,
   "id": "3d5c6963",
   "metadata": {},
   "outputs": [],
   "source": [
    "PYTHON = sys.executable"
   ]
  },
  {
   "cell_type": "code",
   "execution_count": 4,
   "id": "0b5ea21a",
   "metadata": {},
   "outputs": [
    {
     "name": "stdout",
     "output_type": "stream",
     "text": [
      "/usr/bin/python3\n"
     ]
    }
   ],
   "source": [
    "print(PYTHON)"
   ]
  },
  {
   "cell_type": "code",
   "execution_count": 30,
   "id": "553e69ba",
   "metadata": {},
   "outputs": [],
   "source": [
    "def launch_training_job(pretrain_path, model, learning_rate):\n",
    "    \"\"\"Launch training of the model with a set of hyperparameters in parent_dir/job_name\n",
    "    Args:\n",
    "        parent_dir: (string) directory containing config, weights and log\n",
    "        data_dir: (string) directory containing the dataset\n",
    "        params: (dict) containing hyperparameters\n",
    "    \"\"\"\n",
    "    # Create a new folder in parent_dir with unique_name \"job_name\"\n",
    "    root_path = \"/home/shared/workspace/Resnet3D/3D-ResNets-PyTorch/data/\"\n",
    "    \n",
    "    result_name = model + \"_\" + pretrain_path.split('.')[0] + \"_\" + str(learning_rate)\n",
    "    result_dir = os.path.join(root_path, 'results', result_name)\n",
    "    if not os.path.exists(result_dir):\n",
    "        print(result_dir)\n",
    "        os.makedirs(result_dir)\n",
    "\n",
    "#     # Write parameters in json file\n",
    "#     json_path = os.path.join(model_dir, 'params.json')\n",
    "#     params.save(json_path)\n",
    "\n",
    "    # Launch training with this config\n",
    "    model_name = pretrain_path.split('.')[0]\n",
    "    model_depth = model_name.split('_')[0].split('d')[-1]\n",
    "    pretrain_dataset = model_name.split('_')[1]\n",
    "\n",
    "    if pretrain_dataset == 'K':\n",
    "        n_pretrain_classes = 700\n",
    "    elif pretrain_dataset == 'KM':\n",
    "        n_pretrain_classes = 1039\n",
    "    elif pretrain_dataset == 'KMS':\n",
    "        n_pretrain_classes = 1139\n",
    "    elif pretrain_dataset == 'M':\n",
    "        n_pretrain_classes = 339\n",
    "    elif pretrain_dataset == 'S':\n",
    "        n_pretrain_classes = 100\n",
    "    else :\n",
    "        n_pretrain_classes = 0\n",
    "        \n",
    "    cmd = \"python main.py --root_path {root_path} \\\n",
    "    --video_path jpg \\\n",
    "    --annotation_path ntu_01.json \\\n",
    "    --result_path {result_dir} \\\n",
    "    --dataset ucf101 \\\n",
    "    --n_classes 9 \\\n",
    "    --n_pretrain_classes {n_pretrain_classes} \\\n",
    "    --pretrain_path models/{pretrain_path} \\\n",
    "    --ft_begin_module fc \\\n",
    "    --model {model} \\\n",
    "    --model_depth {model_depth} \\\n",
    "    --batch_size 64 \\\n",
    "    --n_threads 4 \\\n",
    "    --checkpoint 5 \\\n",
    "    --n_epochs 2 \\\n",
    "    --learning_rate {learning_rate} \\\n",
    "    --weight_decay 1e-5\".format(root_path = root_path, result_dir = result_dir, \n",
    "                                n_pretrain_classes = n_pretrain_classes, pretrain_path=pretrain_path, \n",
    "                                model = model, model_depth = model_depth, learning_rate = learning_rate)\n",
    "    print(cmd)\n",
    "    check_call(cmd, shell=True)"
   ]
  },
  {
   "cell_type": "code",
   "execution_count": 35,
   "id": "1b2b04fb",
   "metadata": {
    "scrolled": true
   },
   "outputs": [
    {
     "name": "stdout",
     "output_type": "stream",
     "text": [
      "python main.py --root_path /home/shared/workspace/Resnet3D/3D-ResNets-PyTorch/data/     --video_path jpg     --annotation_path ntu_01.json     --result_path /home/shared/workspace/Resnet3D/3D-ResNets-PyTorch/data/results/resnet_r3d50_KMS_200ep_0.01     --dataset ucf101     --n_classes 9     --n_pretrain_classes 1139     --pretrain_path models/r3d50_KMS_200ep.pth     --ft_begin_module fc     --model resnet     --model_depth 50     --batch_size 64     --n_threads 4     --checkpoint 5     --n_epochs 3     --learning_rate 0.01     --weight_decay 1e-5\n"
     ]
    },
    {
     "ename": "CalledProcessError",
     "evalue": "Command 'python main.py --root_path /home/shared/workspace/Resnet3D/3D-ResNets-PyTorch/data/     --video_path jpg     --annotation_path ntu_01.json     --result_path /home/shared/workspace/Resnet3D/3D-ResNets-PyTorch/data/results/resnet_r3d50_KMS_200ep_0.01     --dataset ucf101     --n_classes 9     --n_pretrain_classes 1139     --pretrain_path models/r3d50_KMS_200ep.pth     --ft_begin_module fc     --model resnet     --model_depth 50     --batch_size 64     --n_threads 4     --checkpoint 5     --n_epochs 3     --learning_rate 0.01     --weight_decay 1e-5' returned non-zero exit status 1.",
     "output_type": "error",
     "traceback": [
      "\u001b[0;31m---------------------------------------------------------------------------\u001b[0m",
      "\u001b[0;31mCalledProcessError\u001b[0m                        Traceback (most recent call last)",
      "\u001b[0;32m<ipython-input-35-7c7acb7e9b5a>\u001b[0m in \u001b[0;36m<module>\u001b[0;34m\u001b[0m\n\u001b[0;32m----> 1\u001b[0;31m \u001b[0mlaunch_training_job\u001b[0m\u001b[0;34m(\u001b[0m\u001b[0;34m\"r3d50_KMS_200ep.pth\"\u001b[0m\u001b[0;34m,\u001b[0m \u001b[0;34m\"resnet\"\u001b[0m\u001b[0;34m,\u001b[0m \u001b[0;36m0.01\u001b[0m\u001b[0;34m)\u001b[0m\u001b[0;34m\u001b[0m\u001b[0;34m\u001b[0m\u001b[0m\n\u001b[0m",
      "\u001b[0;32m<ipython-input-30-f2efb87cf88c>\u001b[0m in \u001b[0;36mlaunch_training_job\u001b[0;34m(pretrain_path, model, learning_rate)\u001b[0m\n\u001b[1;32m     57\u001b[0m                                 model = model, model_depth = model_depth, learning_rate = learning_rate)\n\u001b[1;32m     58\u001b[0m     \u001b[0mprint\u001b[0m\u001b[0;34m(\u001b[0m\u001b[0mcmd\u001b[0m\u001b[0;34m)\u001b[0m\u001b[0;34m\u001b[0m\u001b[0;34m\u001b[0m\u001b[0m\n\u001b[0;32m---> 59\u001b[0;31m     \u001b[0mcheck_call\u001b[0m\u001b[0;34m(\u001b[0m\u001b[0mcmd\u001b[0m\u001b[0;34m,\u001b[0m \u001b[0mshell\u001b[0m\u001b[0;34m=\u001b[0m\u001b[0;32mTrue\u001b[0m\u001b[0;34m)\u001b[0m\u001b[0;34m\u001b[0m\u001b[0;34m\u001b[0m\u001b[0m\n\u001b[0m",
      "\u001b[0;32m/usr/lib/python3.6/subprocess.py\u001b[0m in \u001b[0;36mcheck_call\u001b[0;34m(*popenargs, **kwargs)\u001b[0m\n\u001b[1;32m    309\u001b[0m         \u001b[0;32mif\u001b[0m \u001b[0mcmd\u001b[0m \u001b[0;32mis\u001b[0m \u001b[0;32mNone\u001b[0m\u001b[0;34m:\u001b[0m\u001b[0;34m\u001b[0m\u001b[0;34m\u001b[0m\u001b[0m\n\u001b[1;32m    310\u001b[0m             \u001b[0mcmd\u001b[0m \u001b[0;34m=\u001b[0m \u001b[0mpopenargs\u001b[0m\u001b[0;34m[\u001b[0m\u001b[0;36m0\u001b[0m\u001b[0;34m]\u001b[0m\u001b[0;34m\u001b[0m\u001b[0;34m\u001b[0m\u001b[0m\n\u001b[0;32m--> 311\u001b[0;31m         \u001b[0;32mraise\u001b[0m \u001b[0mCalledProcessError\u001b[0m\u001b[0;34m(\u001b[0m\u001b[0mretcode\u001b[0m\u001b[0;34m,\u001b[0m \u001b[0mcmd\u001b[0m\u001b[0;34m)\u001b[0m\u001b[0;34m\u001b[0m\u001b[0;34m\u001b[0m\u001b[0m\n\u001b[0m\u001b[1;32m    312\u001b[0m     \u001b[0;32mreturn\u001b[0m \u001b[0;36m0\u001b[0m\u001b[0;34m\u001b[0m\u001b[0;34m\u001b[0m\u001b[0m\n\u001b[1;32m    313\u001b[0m \u001b[0;34m\u001b[0m\u001b[0m\n",
      "\u001b[0;31mCalledProcessError\u001b[0m: Command 'python main.py --root_path /home/shared/workspace/Resnet3D/3D-ResNets-PyTorch/data/     --video_path jpg     --annotation_path ntu_01.json     --result_path /home/shared/workspace/Resnet3D/3D-ResNets-PyTorch/data/results/resnet_r3d50_KMS_200ep_0.01     --dataset ucf101     --n_classes 9     --n_pretrain_classes 1139     --pretrain_path models/r3d50_KMS_200ep.pth     --ft_begin_module fc     --model resnet     --model_depth 50     --batch_size 64     --n_threads 4     --checkpoint 5     --n_epochs 3     --learning_rate 0.01     --weight_decay 1e-5' returned non-zero exit status 1."
     ]
    }
   ],
   "source": [
    "launch_training_job(\"r3d50_KMS_200ep.pth\", \"resnet\", 0.01)"
   ]
  },
  {
   "cell_type": "code",
   "execution_count": 19,
   "id": "0fc1e415",
   "metadata": {},
   "outputs": [],
   "source": [
    "def launch_inference_job(pretrain_path, model, learning_rate):\n",
    "    \"\"\"Launch training of the model with a set of hyperparameters in parent_dir/job_name\n",
    "    Args:\n",
    "        parent_dir: (string) directory containing config, weights and log\n",
    "        data_dir: (string) directory containing the dataset\n",
    "        params: (dict) containing hyperparameters\n",
    "    \"\"\"\n",
    "    # Create a new folder in parent_dir with unique_name \"job_name\"\n",
    "    root_path = \"/home/shared/workspace/Resnet3D/3D-ResNets-PyTorch/data/\"\n",
    "    \n",
    "    result_name = model + \"_\" + pretrain_path.split('.')[0] + \"_\" + str(learning_rate)\n",
    "    result_dir = os.path.join(root_path, 'results', result_name)\n",
    "    if not os.path.exists(result_dir):\n",
    "        print(\"result_dir does not exist\")\n",
    "\n",
    "#     # Write parameters in json file\n",
    "#     json_path = os.path.join(model_dir, 'params.json')\n",
    "#     params.save(json_path)\n",
    "\n",
    "    # Launch training with this config\n",
    "    model_name = pretrain_path.split('.')[0]\n",
    "    model_depth = model_name.split('_')[0].split('d')[-1]\n",
    "    pretrain_dataset = model_name.split('_')[1]\n",
    "\n",
    "    if pretrain_dataset == 'K':\n",
    "        n_pretrain_classes = 700\n",
    "    elif pretrain_dataset == 'KM':\n",
    "        n_pretrain_classes = 1039\n",
    "    elif pretrain_dataset == 'KMS':\n",
    "        n_pretrain_classes = 1139\n",
    "    elif pretrain_dataset == 'M':\n",
    "        n_pretrain_classes = 339\n",
    "    elif pretrain_dataset == 'S':\n",
    "        n_pretrain_classes = 100\n",
    "    else :\n",
    "        n_pretrain_classes = 0\n",
    "        \n",
    "    cmd = \"python main.py --root_path {root_path} \\\n",
    "    --video_path jpg \\\n",
    "    --annotation_path ntu_01.json \\\n",
    "    --result_path {result_dir} \\\n",
    "    --dataset ucf101 \\\n",
    "    --n_classes 9 \\\n",
    "    --model_depth {model_depth} \\\n",
    "    --n_threads 4 \\\n",
    "    --no_train \\\n",
    "    --no_val \\\n",
    "    --inference \\\n",
    "    --output_topk 3\\\n",
    "    --inference_batch_size 1\".format(root_path = root_path, result_dir = result_dir, model_depth = model_depth)\n",
    "    print(cmd)\n",
    "    check_call(cmd, shell=True)"
   ]
  },
  {
   "cell_type": "code",
   "execution_count": 21,
   "id": "09bd82dd",
   "metadata": {},
   "outputs": [
    {
     "name": "stdout",
     "output_type": "stream",
     "text": [
      "python main.py --root_path /home/shared/workspace/Resnet3D/3D-ResNets-PyTorch/data/     --video_path jpg     --annotation_path ntu_01.json     --result_path /home/shared/workspace/Resnet3D/3D-ResNets-PyTorch/data/results/resnet_r3d50_KMS_200ep_0.0001     --dataset ucf101     --n_classes 9     --model_depth 50     --n_threads 4     --no_train     --no_val     --inference     --output_topk 5    --inference_batch_size 1\n"
     ]
    }
   ],
   "source": [
    "launch_inference_job(\"r3d50_KMS_200ep.pth\", \"resnet\", 1e-4)"
   ]
  },
  {
   "cell_type": "code",
   "execution_count": 26,
   "id": "1a0514ef",
   "metadata": {},
   "outputs": [],
   "source": [
    "def launch_topclass_job(pretrain_path, model, learning_rate):\n",
    "    \"\"\"Launch training of the model with a set of hyperparameters in parent_dir/job_name\n",
    "    Args:\n",
    "        parent_dir: (string) directory containing config, weights and log\n",
    "        data_dir: (string) directory containing the dataset\n",
    "        params: (dict) containing hyperparameters\n",
    "    \"\"\"\n",
    "    # Create a new folder in parent_dir with unique_name \"job_name\"\n",
    "    root_path = \"/home/shared/workspace/Resnet3D/3D-ResNets-PyTorch/data/\"\n",
    "    \n",
    "    result_name = model + \"_\" + pretrain_path.split('.')[0] + \"_\" + str(learning_rate)\n",
    "    result_dir = os.path.join(root_path, 'results', result_name)\n",
    "    if not os.path.exists(result_dir):\n",
    "        print(\"result_dir does not exist\")\n",
    "        \n",
    "    cmd = \"python -m util_scripts.eval_accuracy \\\n",
    "    {root_path}/ntu_01.json \\\n",
    "    {result_dir}/val.json \\\n",
    "    --subset validation -k 1 --ignore\".format(root_path = root_path, result_dir = result_dir)\n",
    "    print(cmd)\n",
    "    check_call(cmd, shell=True)"
   ]
  },
  {
   "cell_type": "code",
   "execution_count": 28,
   "id": "d0e9da3b",
   "metadata": {},
   "outputs": [
    {
     "name": "stdout",
     "output_type": "stream",
     "text": [
      "python -m util_scripts.eval_accuracy     /home/shared/workspace/Resnet3D/3D-ResNets-PyTorch/data//ntu_01.json     /home/shared/workspace/Resnet3D/3D-ResNets-PyTorch/data/results/resnet_r3d50_KMS_200ep_0.0001/val.json     --subset validation -k 1 --ignore\n"
     ]
    }
   ],
   "source": [
    "launch_topclass_job(\"r3d50_KMS_200ep.pth\", \"resnet\", 1e-4)"
   ]
  },
  {
   "cell_type": "code",
   "execution_count": null,
   "id": "733feb23",
   "metadata": {},
   "outputs": [],
   "source": []
  }
 ],
 "metadata": {
  "kernelspec": {
   "display_name": "Python 3",
   "language": "python",
   "name": "python3"
  },
  "language_info": {
   "codemirror_mode": {
    "name": "ipython",
    "version": 3
   },
   "file_extension": ".py",
   "mimetype": "text/x-python",
   "name": "python",
   "nbconvert_exporter": "python",
   "pygments_lexer": "ipython3",
   "version": "3.6.9"
  }
 },
 "nbformat": 4,
 "nbformat_minor": 5
}
